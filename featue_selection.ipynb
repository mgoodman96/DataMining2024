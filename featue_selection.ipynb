{
 "cells": [
  {
   "cell_type": "code",
   "execution_count": 13,
   "metadata": {},
   "outputs": [],
   "source": [
    "import pandas as pd\n",
    "\n",
    "import matplotlib.pyplot as plt\n",
    "from sklearn.decomposition import PCA\n",
    "from sklearn.cluster import KMeans\n",
    "import statsmodels.api as sm\n",
    "from sklearn.manifold import TSNE\n"
   ]
  },
  {
   "cell_type": "code",
   "execution_count": 14,
   "metadata": {},
   "outputs": [],
   "source": [
    "# load data from processed_data.parquet\n",
    "df = pd.read_parquet(\"processed_data.parquet\")"
   ]
  },
  {
   "cell_type": "markdown",
   "metadata": {},
   "source": [
    "## Feature Selection \n",
    "\n",
    "<br /> **Principal Component Analysis (PCA)**: Dimensionality reduction technique used to reduce the dimensionality of a dataset while preserving as much variance as possible. It does this by transforming the original variables into a new set of variables called principal components, which are linear combinations of the original variables. Requires numerical encoding!\n",
    "\n",
    "<br /> **K-mean clustering**: Unsupervised machine learning algorithm used for clustering data into groups or clusters based on similarities in their feature space. It aims to partition the data into k clusters, where each data point belongs to the cluster with the nearest mean (centroid). Requires numerical encoding!\n",
    "\n",
    "<br /> **t-Distributed Stochastic Neighbor Embedding (t-SNE)**: Visualizing high-dimensional data in lower-dimensional spaces, often in two or three dimensions. Preserves the local structure of the data points, meaning that similar data points in the high-dimensional space should remain close to each other in the low-dimensional embedding. Requires numerical encoding!\n",
    "\n",
    "<br /> **Latent Class Analysis (LCA)**: Identifies unobserved or latent subgroups within a population based on patterns of observed categorical variables. It belongs to the family of finite mixture models, where each latent class represents a distinct subgroup with its own characteristic response probabilities for the observed variables. Requires numerical encoding!"
   ]
  },
  {
   "cell_type": "markdown",
   "metadata": {},
   "source": [
    "#### PCA"
   ]
  },
  {
   "cell_type": "code",
   "execution_count": 15,
   "metadata": {},
   "outputs": [
    {
     "data": {
      "text/plain": [
       "['age_ind',\n",
       " 'district_y',\n",
       " 'crash_hour_ind',\n",
       " 'posted_speed_limit_ind',\n",
       " 'street_direction_ind_S',\n",
       " 'street_direction_ind_N',\n",
       " 'lighting_condition_ind_DAYLIGHT',\n",
       " 'crash_day_of_week_ind']"
      ]
     },
     "execution_count": 15,
     "metadata": {},
     "output_type": "execute_result"
    }
   ],
   "source": [
    "X = df.drop(['target'], axis=1).values\n",
    "\n",
    "pca = PCA(n_components=3)\n",
    "pca.fit(X)\n",
    "\n",
    "\n",
    "loadings_abs = pd.DataFrame(abs(pca.components_.T), columns=['PC1_loading', 'PC2_loading', 'PC2_loading'], index=df.columns[:-1])\n",
    "\n",
    "# Sum the absolute loadings across the two principal components\n",
    "loadings_abs['total_loading'] = loadings_abs.sum(axis=1)\n",
    "\n",
    "top_features = loadings_abs.sort_values(by='total_loading', ascending=False).head(8).index.tolist()\n",
    "top_features"
   ]
  },
  {
   "cell_type": "code",
   "execution_count": null,
   "metadata": {},
   "outputs": [],
   "source": []
  }
 ],
 "metadata": {
  "kernelspec": {
   "display_name": "chicago",
   "language": "python",
   "name": "python3"
  },
  "language_info": {
   "codemirror_mode": {
    "name": "ipython",
    "version": 3
   },
   "file_extension": ".py",
   "mimetype": "text/x-python",
   "name": "python",
   "nbconvert_exporter": "python",
   "pygments_lexer": "ipython3",
   "version": "3.10.13"
  }
 },
 "nbformat": 4,
 "nbformat_minor": 2
}
