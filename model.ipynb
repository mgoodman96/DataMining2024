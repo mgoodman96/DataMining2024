{
 "cells": [
  {
   "cell_type": "code",
   "execution_count": 99,
   "metadata": {},
   "outputs": [],
   "source": [
    "import pandas as pd\n",
    "from sklearn.model_selection import cross_val_score, RepeatedStratifiedKFold, train_test_split, cross_val_predict\n",
    "from sklearn.naive_bayes import GaussianNB\n",
    "from sklearn.linear_model import LogisticRegression\n",
    "from sklearn.svm import LinearSVC\n",
    "from sklearn.ensemble import RandomForestClassifier, GradientBoostingClassifier\n",
    "from sklearn.metrics import accuracy_score"
   ]
  },
  {
   "cell_type": "code",
   "execution_count": 122,
   "metadata": {},
   "outputs": [],
   "source": [
    "# load data \n",
    "df = pd.read_parquet('processed_data.parquet')"
   ]
  },
  {
   "cell_type": "code",
   "execution_count": null,
   "metadata": {},
   "outputs": [],
   "source": [
    "pedpedal_action_ind"
   ]
  },
  {
   "cell_type": "code",
   "execution_count": 118,
   "metadata": {},
   "outputs": [
    {
     "data": {
      "text/plain": [
       "['pedpedal_action_ind_0',\n",
       " 'pedpedal_action_ind_AGAINST TRAFFIC',\n",
       " 'pedpedal_action_ind_CROSSING - AGAINST SIGNAL',\n",
       " 'pedpedal_action_ind_CROSSING - CONTROLS PRESENT (NOT AT INTERSECTION)',\n",
       " 'pedpedal_action_ind_CROSSING - NO CONTROLS (AT INTERSECTION)',\n",
       " 'pedpedal_action_ind_CROSSING - NO CONTROLS (NOT AT INTERSECTION)',\n",
       " 'pedpedal_action_ind_CROSSING - WITH SIGNAL',\n",
       " 'pedpedal_action_ind_ENTER FROM DRIVE/ALLEY',\n",
       " 'pedpedal_action_ind_INTOXICATED PED/PEDAL',\n",
       " 'pedpedal_action_ind_NO ACTION',\n",
       " 'pedpedal_action_ind_NOT AT INTERSECTION',\n",
       " 'pedpedal_action_ind_OTHER ACTION',\n",
       " 'pedpedal_action_ind_PARKED VEHICLE',\n",
       " 'pedpedal_action_ind_PLAYING IN ROADWAY',\n",
       " 'pedpedal_action_ind_PLAYING/WORKING ON VEHICLE',\n",
       " 'pedpedal_action_ind_SCHOOL BUS (WITHIN 50 FT.)',\n",
       " 'pedpedal_action_ind_STANDING IN ROADWAY',\n",
       " 'pedpedal_action_ind_TO/FROM DISABLED VEHICLE',\n",
       " 'pedpedal_action_ind_TURNING LEFT',\n",
       " 'pedpedal_action_ind_TURNING RIGHT',\n",
       " 'pedpedal_action_ind_UNKNOWN/NA',\n",
       " 'pedpedal_action_ind_WAITING FOR SCHOOL BUS',\n",
       " 'pedpedal_action_ind_WITH TRAFFIC',\n",
       " 'pedpedal_action_ind_WORKING IN ROADWAY']"
      ]
     },
     "execution_count": 118,
     "metadata": {},
     "output_type": "execute_result"
    }
   ],
   "source": [
    "# filter with prefix pedpedal_action_ind\n",
    "p = df.filter(like='pedpedal_action_ind')\n",
    "p.columns.tolist()"
   ]
  },
  {
   "cell_type": "code",
   "execution_count": 124,
   "metadata": {},
   "outputs": [],
   "source": [
    "input_cols = ['district_y', 'crash_hour_ind', 'posted_speed_limit_ind', 'lighting_condition_ind_DAYLIGHT','crash_day_of_week_ind', \n",
    "              'target', 'pedpedal_action_ind_CROSSING - AGAINST SIGNAL', 'pedpedal_action_ind_CROSSING - CONTROLS PRESENT (NOT AT INTERSECTION)', \n",
    "              'pedpedal_action_ind_CROSSING - NO CONTROLS (AT INTERSECTION)', 'pedpedal_action_ind_CROSSING - NO CONTROLS (NOT AT INTERSECTION)',\n",
    "              'pedpedal_action_ind_CROSSING - WITH SIGNAL']\n",
    "\n",
    "\n",
    "\n",
    "df = df[input_cols]"
   ]
  },
  {
   "cell_type": "code",
   "execution_count": 113,
   "metadata": {},
   "outputs": [
    {
     "data": {
      "text/html": [
       "<div>\n",
       "<style scoped>\n",
       "    .dataframe tbody tr th:only-of-type {\n",
       "        vertical-align: middle;\n",
       "    }\n",
       "\n",
       "    .dataframe tbody tr th {\n",
       "        vertical-align: top;\n",
       "    }\n",
       "\n",
       "    .dataframe thead th {\n",
       "        text-align: right;\n",
       "    }\n",
       "</style>\n",
       "<table border=\"1\" class=\"dataframe\">\n",
       "  <thead>\n",
       "    <tr style=\"text-align: right;\">\n",
       "      <th></th>\n",
       "      <th>district_y</th>\n",
       "      <th>crash_hour_ind</th>\n",
       "      <th>posted_speed_limit_ind</th>\n",
       "      <th>lighting_condition_ind_DAYLIGHT</th>\n",
       "      <th>crash_day_of_week_ind</th>\n",
       "      <th>target</th>\n",
       "    </tr>\n",
       "  </thead>\n",
       "  <tbody>\n",
       "    <tr>\n",
       "      <th>0</th>\n",
       "      <td>0.0</td>\n",
       "      <td>18</td>\n",
       "      <td>30</td>\n",
       "      <td>0</td>\n",
       "      <td>3</td>\n",
       "      <td>1</td>\n",
       "    </tr>\n",
       "    <tr>\n",
       "      <th>1</th>\n",
       "      <td>20.0</td>\n",
       "      <td>17</td>\n",
       "      <td>30</td>\n",
       "      <td>0</td>\n",
       "      <td>3</td>\n",
       "      <td>1</td>\n",
       "    </tr>\n",
       "  </tbody>\n",
       "</table>\n",
       "</div>"
      ],
      "text/plain": [
       "   district_y  crash_hour_ind  posted_speed_limit_ind  \\\n",
       "0         0.0              18                      30   \n",
       "1        20.0              17                      30   \n",
       "\n",
       "   lighting_condition_ind_DAYLIGHT  crash_day_of_week_ind  target  \n",
       "0                                0                      3       1  \n",
       "1                                0                      3       1  "
      ]
     },
     "execution_count": 113,
     "metadata": {},
     "output_type": "execute_result"
    }
   ],
   "source": [
    "df.head(2)"
   ]
  },
  {
   "cell_type": "code",
   "execution_count": 125,
   "metadata": {},
   "outputs": [],
   "source": [
    "# Split the data into X and y\n",
    "X = df.drop(columns=['target']).to_numpy() \n",
    "y = df['target'].to_numpy() "
   ]
  },
  {
   "cell_type": "code",
   "execution_count": 126,
   "metadata": {},
   "outputs": [
    {
     "data": {
      "text/plain": [
       "target\n",
       "1    11937\n",
       "0     7411\n",
       "2     3265\n",
       "Name: count, dtype: int64"
      ]
     },
     "execution_count": 126,
     "metadata": {},
     "output_type": "execute_result"
    }
   ],
   "source": [
    "df['target'].value_counts()"
   ]
  },
  {
   "cell_type": "markdown",
   "metadata": {},
   "source": [
    "Naive Bayes can be extended to handle multi-class classification problems. In this context, it calculates the probability of each class given the features and selects the class with the highest probability as the predicted class.\n",
    "\n",
    "Logistic Regression can be extended to handle multi-class classification tasks. One common approach is the one-vs-rest (OvR) strategy, where separate binary classifiers are trained for each class. Each classifier is trained to distinguish between one class and the rest. Alternatively, the one-vs-one (OvO) strategy trains a binary classifier for each pair of classes.\n",
    "\n",
    "SVM: SVM can be adapted to handle multi-class classification using either the one-vs-one (OvO) or one-vs-rest (OvR) strategy. In OvO, a binary classifier is trained for each pair of classes, and the class with the most votes is chosen. In OvR, separate binary classifiers are trained for each class, where each classifier distinguishes between one class and the rest.\n",
    "\n",
    "Random Forest: Ensemble learning method that combines the strengths of decision trees with randomization to achieve high predictive accuracy and generalization performance.\n",
    "\n",
    "Gradient Boosting: Builds an ensemble of weak learners, optimizing them using gradient descent to minimize a loss function and achieve strong predictive performance.\n"
   ]
  },
  {
   "cell_type": "code",
   "execution_count": 127,
   "metadata": {},
   "outputs": [],
   "source": [
    "from sklearn.naive_bayes import GaussianNB\n",
    "\n",
    "def naive_bayes_accuracy_per_class(X, y, n_splits=5, n_repeats=2):\n",
    "    nb_classifier = GaussianNB()\n",
    "\n",
    "    # Perform cross-validation and get predicted labels for each sample\n",
    "    y_pred = cross_val_predict(nb_classifier, X, y, cv=n_splits, n_jobs=-1)\n",
    "\n",
    "    # accuracy for each class\n",
    "    accuracy_per_class = []\n",
    "    for class_label in np.unique(y):\n",
    "        class_indices = np.where(y == class_label)[0]\n",
    "        class_accuracy = accuracy_score(y[class_indices], y_pred[class_indices])\n",
    "        accuracy_per_class.append(class_accuracy)\n",
    "\n",
    "    return accuracy_per_class\n",
    "\n",
    "# Example:\n",
    "accuracies = naive_bayes_accuracy_per_class(X, y)\n",
    "\n",
    "naive_bayes_results = pd.DataFrame({'Class': range(len(accuracies)), 'Accuracy': accuracies})\n"
   ]
  },
  {
   "cell_type": "code",
   "execution_count": 128,
   "metadata": {},
   "outputs": [
    {
     "name": "stderr",
     "output_type": "stream",
     "text": [
      "/opt/anaconda3/envs/chicago/lib/python3.10/site-packages/sklearn/linear_model/_logistic.py:460: ConvergenceWarning: lbfgs failed to converge (status=1):\n",
      "STOP: TOTAL NO. of ITERATIONS REACHED LIMIT.\n",
      "\n",
      "Increase the number of iterations (max_iter) or scale the data as shown in:\n",
      "    https://scikit-learn.org/stable/modules/preprocessing.html\n",
      "Please also refer to the documentation for alternative solver options:\n",
      "    https://scikit-learn.org/stable/modules/linear_model.html#logistic-regression\n",
      "  n_iter_i = _check_optimize_result(\n",
      "/opt/anaconda3/envs/chicago/lib/python3.10/site-packages/sklearn/linear_model/_logistic.py:460: ConvergenceWarning: lbfgs failed to converge (status=1):\n",
      "STOP: TOTAL NO. of ITERATIONS REACHED LIMIT.\n",
      "\n",
      "Increase the number of iterations (max_iter) or scale the data as shown in:\n",
      "    https://scikit-learn.org/stable/modules/preprocessing.html\n",
      "Please also refer to the documentation for alternative solver options:\n",
      "    https://scikit-learn.org/stable/modules/linear_model.html#logistic-regression\n",
      "  n_iter_i = _check_optimize_result(\n",
      "/opt/anaconda3/envs/chicago/lib/python3.10/site-packages/sklearn/linear_model/_logistic.py:460: ConvergenceWarning: lbfgs failed to converge (status=1):\n",
      "STOP: TOTAL NO. of ITERATIONS REACHED LIMIT.\n",
      "\n",
      "Increase the number of iterations (max_iter) or scale the data as shown in:\n",
      "    https://scikit-learn.org/stable/modules/preprocessing.html\n",
      "Please also refer to the documentation for alternative solver options:\n",
      "    https://scikit-learn.org/stable/modules/linear_model.html#logistic-regression\n",
      "  n_iter_i = _check_optimize_result(\n",
      "/opt/anaconda3/envs/chicago/lib/python3.10/site-packages/sklearn/linear_model/_logistic.py:460: ConvergenceWarning: lbfgs failed to converge (status=1):\n",
      "STOP: TOTAL NO. of ITERATIONS REACHED LIMIT.\n",
      "\n",
      "Increase the number of iterations (max_iter) or scale the data as shown in:\n",
      "    https://scikit-learn.org/stable/modules/preprocessing.html\n",
      "Please also refer to the documentation for alternative solver options:\n",
      "    https://scikit-learn.org/stable/modules/linear_model.html#logistic-regression\n",
      "  n_iter_i = _check_optimize_result(\n",
      "/opt/anaconda3/envs/chicago/lib/python3.10/site-packages/sklearn/linear_model/_logistic.py:460: ConvergenceWarning: lbfgs failed to converge (status=1):\n",
      "STOP: TOTAL NO. of ITERATIONS REACHED LIMIT.\n",
      "\n",
      "Increase the number of iterations (max_iter) or scale the data as shown in:\n",
      "    https://scikit-learn.org/stable/modules/preprocessing.html\n",
      "Please also refer to the documentation for alternative solver options:\n",
      "    https://scikit-learn.org/stable/modules/linear_model.html#logistic-regression\n",
      "  n_iter_i = _check_optimize_result(\n"
     ]
    }
   ],
   "source": [
    "from sklearn.linear_model import LogisticRegression\n",
    "\n",
    "def logistic_regression_accuracy_per_class(X, y, n_splits=5, n_repeats=2):\n",
    "    lr_classifier = LogisticRegression(multi_class='multinomial', solver='lbfgs')\n",
    "\n",
    "    # cross-validation and get predicted labels for each sample\n",
    "    y_pred = cross_val_predict(lr_classifier, X, y, cv=n_splits, n_jobs=-1)\n",
    "\n",
    "    # accuracy for each class\n",
    "    accuracy_per_class = []\n",
    "    for class_label in np.unique(y):\n",
    "        class_indices = np.where(y == class_label)[0]\n",
    "        class_accuracy = accuracy_score(y[class_indices], y_pred[class_indices])\n",
    "        accuracy_per_class.append(class_accuracy)\n",
    "\n",
    "    return accuracy_per_class\n",
    "\n",
    "# Example:\n",
    "accuracies = logistic_regression_accuracy_per_class(X, y)\n",
    "\n",
    "logistic_results = pd.DataFrame({'Class': range(len(accuracies)), 'Accuracy': accuracies})\n"
   ]
  },
  {
   "cell_type": "code",
   "execution_count": 129,
   "metadata": {},
   "outputs": [],
   "source": [
    "from sklearn.svm import SVC\n",
    "\n",
    "def svm_accuracy_per_class(X, y, n_splits=5, n_repeats=2):\n",
    "    svm_classifier = SVC()\n",
    "\n",
    "    # cross-validation and get predicted labels for each sample\n",
    "    y_pred = cross_val_predict(svm_classifier, X, y, cv=n_splits, n_jobs=-1)\n",
    "\n",
    "    # accuracy for each class\n",
    "    accuracy_per_class = []\n",
    "    for class_label in np.unique(y):\n",
    "        class_indices = np.where(y == class_label)[0]\n",
    "        class_accuracy = accuracy_score(y[class_indices], y_pred[class_indices])\n",
    "        accuracy_per_class.append(class_accuracy)\n",
    "\n",
    "    return accuracy_per_class\n",
    "\n",
    "# Example:\n",
    "accuracies = svm_accuracy_per_class(X, y)\n",
    "\n",
    "svm_results = pd.DataFrame({'Class': range(len(accuracies)), 'Accuracy': accuracies})\n"
   ]
  },
  {
   "cell_type": "code",
   "execution_count": 130,
   "metadata": {},
   "outputs": [],
   "source": [
    "from sklearn.ensemble import RandomForestClassifier\n",
    "\n",
    "def random_forest_accuracy_per_class(X, y, n_splits=5, n_repeats=2):\n",
    "    rf_classifier = RandomForestClassifier()\n",
    "\n",
    "    # cross-validation and get predicted labels for each sample\n",
    "    y_pred = cross_val_predict(rf_classifier, X, y, cv=n_splits, n_jobs=-1)\n",
    "\n",
    "    # accuracy for each class\n",
    "    accuracy_per_class = []\n",
    "    for class_label in np.unique(y):\n",
    "        class_indices = np.where(y == class_label)[0]\n",
    "        class_accuracy = accuracy_score(y[class_indices], y_pred[class_indices])\n",
    "        accuracy_per_class.append(class_accuracy)\n",
    "\n",
    "    return accuracy_per_class\n",
    "\n",
    "# Example:\n",
    "accuracies = random_forest_accuracy_per_class(X, y)\n",
    "\n",
    "random_forest_results = pd.DataFrame({'Class': range(len(accuracies)), 'Accuracy': accuracies})\n"
   ]
  },
  {
   "cell_type": "code",
   "execution_count": 131,
   "metadata": {},
   "outputs": [],
   "source": [
    "from sklearn.ensemble import GradientBoostingClassifier\n",
    "\n",
    "def gradient_boosting_accuracy_per_class(X, y, n_splits=5, n_repeats=2):\n",
    "    gb_classifier = GradientBoostingClassifier()\n",
    "\n",
    "    # cross-validation and predicted class for each sample\n",
    "    y_pred = cross_val_predict(gb_classifier, X, y, cv=n_splits, n_jobs=-1)\n",
    "\n",
    "    # accuracy for each class\n",
    "    accuracy_per_class = []\n",
    "    for class_label in np.unique(y):\n",
    "        class_indices = np.where(y == class_label)[0]\n",
    "        class_accuracy = accuracy_score(y[class_indices], y_pred[class_indices])\n",
    "        accuracy_per_class.append(class_accuracy)\n",
    "\n",
    "    return accuracy_per_class\n",
    "\n",
    "# Example:\n",
    "accuracies = gradient_boosting_accuracy_per_class(X, y)\n",
    "\n",
    "gradient_bosting_results = pd.DataFrame({'Class': range(len(accuracies)), 'Accuracy': accuracies})\n",
    "\n"
   ]
  },
  {
   "cell_type": "code",
   "execution_count": 132,
   "metadata": {},
   "outputs": [],
   "source": [
    "results = pd.concat([naive_bayes_results, logistic_results, svm_results, random_forest_results, gradient_bosting_results], axis=1)"
   ]
  },
  {
   "cell_type": "code",
   "execution_count": 133,
   "metadata": {},
   "outputs": [
    {
     "data": {
      "text/html": [
       "<div>\n",
       "<style scoped>\n",
       "    .dataframe tbody tr th:only-of-type {\n",
       "        vertical-align: middle;\n",
       "    }\n",
       "\n",
       "    .dataframe tbody tr th {\n",
       "        vertical-align: top;\n",
       "    }\n",
       "\n",
       "    .dataframe thead th {\n",
       "        text-align: right;\n",
       "    }\n",
       "</style>\n",
       "<table border=\"1\" class=\"dataframe\">\n",
       "  <thead>\n",
       "    <tr style=\"text-align: right;\">\n",
       "      <th></th>\n",
       "      <th>Class</th>\n",
       "      <th>Accuracy</th>\n",
       "      <th>Class</th>\n",
       "      <th>Accuracy</th>\n",
       "      <th>Class</th>\n",
       "      <th>Accuracy</th>\n",
       "      <th>Class</th>\n",
       "      <th>Accuracy</th>\n",
       "      <th>Class</th>\n",
       "      <th>Accuracy</th>\n",
       "    </tr>\n",
       "  </thead>\n",
       "  <tbody>\n",
       "    <tr>\n",
       "      <th>0</th>\n",
       "      <td>0</td>\n",
       "      <td>0.182162</td>\n",
       "      <td>0</td>\n",
       "      <td>0.001079</td>\n",
       "      <td>0</td>\n",
       "      <td>0.0</td>\n",
       "      <td>0</td>\n",
       "      <td>0.297126</td>\n",
       "      <td>0</td>\n",
       "      <td>0.020105</td>\n",
       "    </tr>\n",
       "    <tr>\n",
       "      <th>1</th>\n",
       "      <td>1</td>\n",
       "      <td>0.775907</td>\n",
       "      <td>1</td>\n",
       "      <td>0.999246</td>\n",
       "      <td>1</td>\n",
       "      <td>1.0</td>\n",
       "      <td>1</td>\n",
       "      <td>0.645137</td>\n",
       "      <td>1</td>\n",
       "      <td>0.984083</td>\n",
       "    </tr>\n",
       "    <tr>\n",
       "      <th>2</th>\n",
       "      <td>2</td>\n",
       "      <td>0.091884</td>\n",
       "      <td>2</td>\n",
       "      <td>0.000000</td>\n",
       "      <td>2</td>\n",
       "      <td>0.0</td>\n",
       "      <td>2</td>\n",
       "      <td>0.085145</td>\n",
       "      <td>2</td>\n",
       "      <td>0.005513</td>\n",
       "    </tr>\n",
       "  </tbody>\n",
       "</table>\n",
       "</div>"
      ],
      "text/plain": [
       "   Class  Accuracy  Class  Accuracy  Class  Accuracy  Class  Accuracy  Class  \\\n",
       "0      0  0.182162      0  0.001079      0       0.0      0  0.297126      0   \n",
       "1      1  0.775907      1  0.999246      1       1.0      1  0.645137      1   \n",
       "2      2  0.091884      2  0.000000      2       0.0      2  0.085145      2   \n",
       "\n",
       "   Accuracy  \n",
       "0  0.020105  \n",
       "1  0.984083  \n",
       "2  0.005513  "
      ]
     },
     "execution_count": 133,
     "metadata": {},
     "output_type": "execute_result"
    }
   ],
   "source": [
    "results"
   ]
  }
 ],
 "metadata": {
  "kernelspec": {
   "display_name": "chicago",
   "language": "python",
   "name": "python3"
  },
  "language_info": {
   "codemirror_mode": {
    "name": "ipython",
    "version": 3
   },
   "file_extension": ".py",
   "mimetype": "text/x-python",
   "name": "python",
   "nbconvert_exporter": "python",
   "pygments_lexer": "ipython3",
   "version": "3.10.13"
  }
 },
 "nbformat": 4,
 "nbformat_minor": 2
}
